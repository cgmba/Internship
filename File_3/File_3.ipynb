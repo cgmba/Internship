{
  "nbformat": 4,
  "nbformat_minor": 0,
  "metadata": {
    "colab": {
      "provenance": []
    },
    "kernelspec": {
      "name": "python3",
      "display_name": "Python 3"
    },
    "language_info": {
      "name": "python"
    }
  },
  "cells": [
    {
      "cell_type": "markdown",
      "source": [
        "Question 1- Write a Python program to replace all occurrences of a space, comma, or dot with a colon.\n",
        "Sample Text- 'Python Exercises, PHP exercises.'\n",
        "Expected Output: Python:Exercises::PHP:exercises:"
      ],
      "metadata": {
        "id": "IlQSogStVO3s"
      }
    },
    {
      "cell_type": "code",
      "execution_count": null,
      "metadata": {
        "colab": {
          "base_uri": "https://localhost:8080/"
        },
        "id": "QMCLKuIkTkf_",
        "outputId": "3476ce98-e046-49a5-9073-d334e2973d32"
      },
      "outputs": [
        {
          "output_type": "stream",
          "name": "stdout",
          "text": [
            "Python:Exercises::PHP:exercises:\n"
          ]
        }
      ],
      "source": [
        "import re\n",
        "import regex as re\n",
        "\n",
        "\n",
        "sub = \"Python Exercises, PHP exercises.\"\n",
        "\n",
        "x = re.sub(\"[\\s\\,\\.]\", \":\", sub)\n",
        "\n",
        "print(x)"
      ]
    },
    {
      "cell_type": "markdown",
      "source": [
        "Question 2-  Write a Python program to find all words starting with 'a' or 'e' in a given string."
      ],
      "metadata": {
        "id": "k0_4JCDrULis"
      }
    },
    {
      "cell_type": "code",
      "source": [
        "import re\n",
        "import regex as re\n",
        "\n",
        "string1 = \"Python Exercises, PHP exercises.\"\n",
        "\n",
        "x = re.findall(\"[ae]\\w+\", string1)\n",
        "\n",
        "print(x)\n",
        "\n"
      ],
      "metadata": {
        "colab": {
          "base_uri": "https://localhost:8080/"
        },
        "id": "F-D38VKTUO0C",
        "outputId": "f00aaf37-9326-4935-ce41-e935711e5daa"
      },
      "execution_count": null,
      "outputs": [
        {
          "output_type": "stream",
          "name": "stdout",
          "text": [
            "['ercises', 'exercises']\n"
          ]
        }
      ]
    },
    {
      "cell_type": "markdown",
      "source": [
        "Question 3- Create a function in python to find all words that are at least 4 characters long in a string. The use of the re.compile() method is mandatory."
      ],
      "metadata": {
        "id": "ADkEm4wzUaXJ"
      }
    },
    {
      "cell_type": "code",
      "source": [
        "\n",
        "import re\n",
        "import regex as re\n",
        "\n",
        "x = re.compile(r\"\\b\\w{4,}\\b\")\n",
        "string1 = x.findall(\"Python Exercises, PHPER exercises.\")\n",
        "print(string1)\n"
      ],
      "metadata": {
        "colab": {
          "base_uri": "https://localhost:8080/"
        },
        "id": "twqyCpSMUYli",
        "outputId": "b8b2244f-4f82-4660-af53-8f9b6c7684de"
      },
      "execution_count": null,
      "outputs": [
        {
          "output_type": "stream",
          "name": "stdout",
          "text": [
            "['Python', 'Exercises', 'PHPER', 'exercises']\n"
          ]
        }
      ]
    },
    {
      "cell_type": "markdown",
      "source": [
        "Question 4- Create a function in python to find all three, four, and five character words in a string. The use of the re.compile() method is mandatory."
      ],
      "metadata": {
        "id": "LTSOwaJ4UiDR"
      }
    },
    {
      "cell_type": "code",
      "source": [
        "\n",
        "import re\n",
        "import regex as re\n",
        "\n",
        "x = re.compile(r\"\\b\\w{3,5}\\b\")\n",
        "string1 = x.findall(\"Python Exercises, PHPER exercises.\")\n",
        "print(string1)\n",
        "\n"
      ],
      "metadata": {
        "colab": {
          "base_uri": "https://localhost:8080/"
        },
        "id": "N9dWiWOVUgfy",
        "outputId": "82f0021e-8ad5-4f51-d73a-2a0084d2d52c"
      },
      "execution_count": null,
      "outputs": [
        {
          "output_type": "stream",
          "name": "stdout",
          "text": [
            "['PHPER']\n"
          ]
        }
      ]
    },
    {
      "cell_type": "markdown",
      "source": [
        "Question 5- Create a function in Python to remove the parenthesis in a list of strings. The use of the re.compile() method is mandatory.\n",
        "Sample Text: [\"example (.com)\", \"hr@fliprobo (.com)\", \"github (.com)\", \"Hello (Data Science World)\", \"Data (Scientist)\"]\n",
        "Expected Output:\n",
        "example.com\n",
        "hr@fliprobo.com\n",
        "github.com\n",
        "Hello Data Science World\n",
        "Data Scientist\n"
      ],
      "metadata": {
        "id": "wQGAmoTJUftQ"
      }
    },
    {
      "cell_type": "code",
      "source": [
        "import re\n",
        "\n",
        "def remove_parentheses(strings):\n",
        "\n",
        "    regex_pattern = re.compile(r\"[\\,\\'\\\"\\(\\)]\")\n",
        "\n",
        "\n",
        "\n",
        "    cleaned_strings = [regex_pattern.sub(\"\", s) for s in strings]\n",
        "\n",
        "    return cleaned_strings\n",
        "\n",
        "str1 = [\"example (.com)\", \"hr@fliprobo (.com)\", \"github (.com)\", \"Hello (Data Science World)\", \"Data (Scientist)\"]\n",
        "result = remove_parentheses(str1)\n",
        "print(*result, sep = \"\\n\" )\n"
      ],
      "metadata": {
        "colab": {
          "base_uri": "https://localhost:8080/"
        },
        "id": "JmZWN4ynVo4V",
        "outputId": "11e6fda1-0022-41a7-92eb-0279673c6e6e"
      },
      "execution_count": null,
      "outputs": [
        {
          "output_type": "stream",
          "name": "stdout",
          "text": [
            "example .com\n",
            "hr@fliprobo .com\n",
            "github .com\n",
            "Hello Data Science World\n",
            "Data Scientist\n"
          ]
        }
      ]
    },
    {
      "cell_type": "markdown",
      "source": [
        "Question 6- Write a python program to remove the parenthesis area from the text stored in the text file using Regular Expression.\n",
        "Sample Text: [\"example (.com)\", \"hr@fliprobo (.com)\", \"github (.com)\", \"Hello (Data Science World)\", \"Data (Scientist)\"]\n",
        "Expected Output: [\"example\", \"hr@fliprobo\", \"github\", \"Hello\", \"Data\"]\n",
        "Note- Store given sample text in the text file and then to remove the parenthesis area from the text.\n"
      ],
      "metadata": {
        "id": "UYtsrT2tWKiY"
      }
    },
    {
      "cell_type": "code",
      "source": [
        "import re\n",
        "\n",
        "def remove_parentheses(text):\n",
        "    pattern = re.compile(r'\\([^)]*\\)')\n",
        "    cleaned_strings = pattern.sub('', text)\n",
        "    return cleaned_strings\n",
        "\n",
        "input_file_path = \"/content/remove_parenthesis.txt\"\n",
        "\n",
        "\n",
        "with open(input_file_path, 'r') as input_file:\n",
        "    text = input_file.read()\n",
        "\n",
        "cleaned_strings = remove_parentheses(text)\n",
        "\n",
        "\n",
        "\n",
        "print(cleaned_strings)\n",
        "\n",
        "\n",
        "\n"
      ],
      "metadata": {
        "colab": {
          "base_uri": "https://localhost:8080/"
        },
        "id": "U2CQ8M5-WNi6",
        "outputId": "06099a04-3f31-4537-cc45-ba4b6afbb0c5"
      },
      "execution_count": null,
      "outputs": [
        {
          "output_type": "stream",
          "name": "stdout",
          "text": [
            "[\"example \", \"hr@fliprobo \", \"github \", \"Hello \", \"Data \"]\n"
          ]
        }
      ]
    },
    {
      "cell_type": "markdown",
      "source": [
        "Question 7- Write a regular expression in Python to split a string into uppercase letters.\n",
        "Sample text: “ImportanceOfRegularExpressionsInPython”\n",
        "Expected Output: [‘Importance’, ‘Of’, ‘Regular’, ‘Expression’, ‘In’, ‘Python’]\n"
      ],
      "metadata": {
        "id": "ASvoyHoXeRqW"
      }
    },
    {
      "cell_type": "code",
      "source": [
        "\n",
        "import re\n",
        "\n",
        "string1 = \"ImportanceOfRegularExpressionsInPython\"\n",
        "split_string = re.findall('[A-Z][^A-Z]*', string1)\n",
        "\n",
        "print(split_string)\n"
      ],
      "metadata": {
        "colab": {
          "base_uri": "https://localhost:8080/"
        },
        "id": "r_rn-PbMeiam",
        "outputId": "c00976d3-1a47-4d49-8b58-4476bfa4130f"
      },
      "execution_count": null,
      "outputs": [
        {
          "output_type": "stream",
          "name": "stdout",
          "text": [
            "['Importance', 'Of', 'Regular', 'Expressions', 'In', 'Python']\n"
          ]
        }
      ]
    },
    {
      "cell_type": "markdown",
      "source": [
        "Question 8- Create a function in python to insert spaces between words starting with numbers.\n",
        "Sample Text: “RegularExpression1IsAn2ImportantTopic3InPython\"\n",
        "Expected Output: RegularExpression 1IsAn 2ImportantTopic 3InPython\n"
      ],
      "metadata": {
        "id": "5CYtjR70emqo"
      }
    },
    {
      "cell_type": "code",
      "source": [
        "def insert_spaces(input_string):\n",
        "    result = re.sub(r'(\\d+)', r' \\1', input_string)\n",
        "    result = re.sub(r'\\s+', ' ', result)\n",
        "    return result.strip()\n",
        "\n",
        "input_string = \"RegularExpression1IsAn2ImportantTopic3InPython\"\n",
        "output_string = insert_spaces(input_string)\n",
        "print(output_string)\n",
        "\n"
      ],
      "metadata": {
        "colab": {
          "base_uri": "https://localhost:8080/"
        },
        "id": "pft5iU8fepqc",
        "outputId": "9dbe8d49-f094-4778-f7fd-d34514466952"
      },
      "execution_count": null,
      "outputs": [
        {
          "output_type": "stream",
          "name": "stdout",
          "text": [
            "RegularExpression 1IsAn 2ImportantTopic 3InPython\n"
          ]
        }
      ]
    },
    {
      "cell_type": "markdown",
      "source": [
        "Question 9- Create a function in python to insert spaces between words starting with capital letters or with numbers.\n",
        "Sample Text: “RegularExpression1IsAn2ImportantTopic3InPython\"\n",
        "Expected Output:  RegularExpression 1 IsAn 2 ImportantTopic 3 InPython\n"
      ],
      "metadata": {
        "id": "ixPohFcgexN1"
      }
    },
    {
      "cell_type": "code",
      "source": [
        "def separate_numbers_from_letters(input_string):\n",
        "    result = re.sub(r'(\\d+)', r' \\1 ', input_string)\n",
        "    result = re.sub(r'\\s+', ' ', result)\n",
        "    return result.strip()\n",
        "\n",
        "input_string = \"RegularExpression1IsAn2ImportantTopic3InPython\"\n",
        "output_string = separate_numbers_from_letters(input_string)\n",
        "print(output_string)\n"
      ],
      "metadata": {
        "colab": {
          "base_uri": "https://localhost:8080/"
        },
        "id": "5L8ToAYYe1AM",
        "outputId": "f94e1be3-8b0d-45d6-d3c8-bbc5a20cd116"
      },
      "execution_count": null,
      "outputs": [
        {
          "output_type": "stream",
          "name": "stdout",
          "text": [
            "RegularExpression 1 IsAn 2 ImportantTopic 3 InPython\n"
          ]
        }
      ]
    },
    {
      "cell_type": "markdown",
      "source": [
        "Question 10- Write a python program to extract email address from the text stored in the text file using Regular Expression.\n",
        "Sample Text- Hello my name is Data Science and my email address is xyz@domain.com and alternate email address is xyz.abc@sdomain.domain.com.\n",
        "Please contact us at hr@fliprobo.com for further information.\n",
        "Expected Output:\n",
        "['xyz@domain.com', 'xyz.abc@sdomain.domain.com']\n",
        "['hr@fliprobo.com']\n",
        "\n",
        "\n",
        "Note- Store given sample text in the text file and then extract email addresses."
      ],
      "metadata": {
        "id": "vC-5M9MWgAAv"
      }
    },
    {
      "cell_type": "code",
      "source": [
        "import re\n",
        "\n",
        "def extract_emails_from_text(file_path):\n",
        "    with open(file_path, 'r') as file:\n",
        "        text = file.read()\n",
        "\n",
        "    email_pattern = r'\\b[A-Za-z0-9._%+-]+@[A-Za-z0-9.-]+\\.[A-Z|a-z]{2,}\\b'\n",
        "    emails = re.findall(email_pattern, text)\n",
        "\n",
        "    return emails\n",
        "\n",
        "file_path = '/content/store_email.txt'\n",
        "extracted_emails = extract_emails_from_text(file_path)\n",
        "\n",
        "for email in extracted_emails:\n",
        "    print(email)\n",
        "\n",
        "\n"
      ],
      "metadata": {
        "colab": {
          "base_uri": "https://localhost:8080/"
        },
        "id": "fh9z6MNGfAdY",
        "outputId": "d88a8f92-e17f-44b6-acb4-6dd900d7d1c8"
      },
      "execution_count": null,
      "outputs": [
        {
          "output_type": "stream",
          "name": "stdout",
          "text": [
            "xyz@domain.com\n",
            "xyz.abc@sdomain.domain.com\n",
            "hr@fliprobo.com\n"
          ]
        }
      ]
    },
    {
      "cell_type": "markdown",
      "source": [
        "Question 11- Write a Python program to match a string that contains only upper and lowercase letters, numbers, and underscores."
      ],
      "metadata": {
        "id": "UkrLu99cgOMd"
      }
    },
    {
      "cell_type": "code",
      "source": [
        "import re\n",
        "def matching(text):\n",
        "    pattern = '^[a-zA-Z0-9_]*$'\n",
        "    if re.search(pattern,text):\n",
        "        print(\"Found a match in!\", text)\n",
        "    else:\n",
        "        print(\"Not matched in!!\", text)\n",
        "\n",
        "\n",
        "matching(\"Testing123\")\n",
        "matching(\"|\")\n"
      ],
      "metadata": {
        "colab": {
          "base_uri": "https://localhost:8080/"
        },
        "id": "KsFBor4qgRu8",
        "outputId": "ae8d9148-3667-4dec-fd69-5d5b337138be"
      },
      "execution_count": null,
      "outputs": [
        {
          "output_type": "stream",
          "name": "stdout",
          "text": [
            "Found a match in! Testing123\n",
            "Not matched in!! |\n"
          ]
        }
      ]
    },
    {
      "cell_type": "markdown",
      "source": [
        "Question 12- Write a Python program where a string will start with a specific number."
      ],
      "metadata": {
        "id": "VV4HA5EygmKb"
      }
    },
    {
      "cell_type": "code",
      "source": [
        "import re\n",
        "def startwith(number):\n",
        "    string1 = '42 is a great number'\n",
        "    if re.match(number,string1):\n",
        "            print(\"Found a match!\")\n",
        "    else:\n",
        "            print(\"Not matched!!\")\n",
        "startwith(string1)\n",
        "startwith('50')\n",
        "startwith('42')"
      ],
      "metadata": {
        "colab": {
          "base_uri": "https://localhost:8080/"
        },
        "id": "MZcepPc8gYNJ",
        "outputId": "278e5093-52c1-4567-9d5b-1f0ffbd6853e"
      },
      "execution_count": null,
      "outputs": [
        {
          "output_type": "stream",
          "name": "stdout",
          "text": [
            "Not matched!!\n",
            "Not matched!!\n",
            "Found a match!\n"
          ]
        }
      ]
    },
    {
      "cell_type": "markdown",
      "source": [
        "Question 13- Write a Python program to remove leading zeros from an IP address"
      ],
      "metadata": {
        "id": "izXOhdGwgwuY"
      }
    },
    {
      "cell_type": "code",
      "source": [
        "\n",
        "import re\n",
        "\n",
        "def remove_leading_zeros(ip_adr):\n",
        "  return re.sub('(^|\\.)0+(?=[^.])', r'\\1', ip_adr)\n",
        "\n",
        "print(remove_leading_zeros('001.172.16.143'))\n",
        "\n"
      ],
      "metadata": {
        "colab": {
          "base_uri": "https://localhost:8080/"
        },
        "id": "sbNlOInIgzTv",
        "outputId": "e59c7f74-1d7f-471c-a1ff-198890aaad31"
      },
      "execution_count": null,
      "outputs": [
        {
          "output_type": "stream",
          "name": "stdout",
          "text": [
            "1.172.16.143\n"
          ]
        }
      ]
    },
    {
      "cell_type": "markdown",
      "source": [
        "Question 14- Write a regular expression in python to match a date string in the form of Month name followed by day number and year stored in a text file.\n",
        "Sample text :  ' On August 15th 1947 that India was declared independent from British colonialism, and the reins of control were handed over to the leaders of the Country’.\n",
        "Expected Output- August 15th 1947\n",
        "Note- Store given sample text in the text file and then extract the date string asked format.\n"
      ],
      "metadata": {
        "id": "FAxs0sHkikFe"
      }
    },
    {
      "cell_type": "code",
      "source": [
        "import re\n",
        "\n",
        "def extract_date(text):\n",
        "    pattern = re.compile(r'\\b(?:January|February|March|April|May|June|July|August|September|October|November|December)\\s+\\d{1,2}(?:st|nd|rd|th)?\\s+\\d{4}\\b')\n",
        "    match = pattern.search(text)\n",
        "    if match:\n",
        "        return match.group()\n",
        "\n",
        "input_file_path = \"/content/match_date.txt\"\n",
        "\n",
        "with open(input_file_path, 'r') as input_file:\n",
        "    text = input_file.read()\n",
        "\n",
        "date_string = extract_date(text)\n",
        "\n",
        "print(\"Extracted date string:\", date_string)\n",
        "\n"
      ],
      "metadata": {
        "colab": {
          "base_uri": "https://localhost:8080/"
        },
        "id": "fQhiN-y1i3hf",
        "outputId": "a7c3ce0b-e7c9-4041-edb3-7a9ee851fc49"
      },
      "execution_count": null,
      "outputs": [
        {
          "output_type": "stream",
          "name": "stdout",
          "text": [
            "Extracted date string: August 15th 1947\n"
          ]
        }
      ]
    },
    {
      "cell_type": "markdown",
      "source": [
        "Question 15- Write a Python program to search some literals strings in a string.\n",
        "Sample text : 'The quick brown fox jumps over the lazy dog.'\n",
        "Searched words : 'fox', 'dog', 'horse'\n"
      ],
      "metadata": {
        "id": "sneIz3QdnGf1"
      }
    },
    {
      "cell_type": "code",
      "source": [
        "\n",
        "import re\n",
        "string1 = 'The quick brown fox jumps over the lazy dog.'\n",
        "pattern_search = re.search('fox|dog|horse', string1)\n",
        "if pattern_search:\n",
        "    print('Found a match!')\n",
        "else:\n",
        "    print('Not matched!!')\n"
      ],
      "metadata": {
        "colab": {
          "base_uri": "https://localhost:8080/"
        },
        "id": "YLUB54PAm7y1",
        "outputId": "5035cc49-1f14-4496-af8e-6dac98c2db1f"
      },
      "execution_count": null,
      "outputs": [
        {
          "output_type": "stream",
          "name": "stdout",
          "text": [
            "Found a match!\n"
          ]
        }
      ]
    },
    {
      "cell_type": "markdown",
      "source": [
        "Question 16- Write a Python program to search a literals string in a string and also find the location within the original string where the pattern occurs\n",
        "Sample text : 'The quick brown fox jumps over the lazy dog.'\n",
        "Searched words : 'fox'\n"
      ],
      "metadata": {
        "id": "TAn1aHEundD8"
      }
    },
    {
      "cell_type": "code",
      "source": [
        "\n",
        "import re\n",
        "string1 = 'The quick brown fox jumps over the lazy dog.'\n",
        "pattern_search = re.search('\\Wfox\\W', string1)\n",
        "if pattern_search:\n",
        "    print('Found a match!', pattern_search.start(), '-', pattern_search.end())\n",
        "else:\n",
        "    print('Not matched!!')\n",
        "\n"
      ],
      "metadata": {
        "colab": {
          "base_uri": "https://localhost:8080/"
        },
        "id": "wZcvDqAInfL8",
        "outputId": "286a3564-a014-411d-8f49-879e614683bb"
      },
      "execution_count": null,
      "outputs": [
        {
          "output_type": "stream",
          "name": "stdout",
          "text": [
            "Found a match! 15 - 20\n"
          ]
        }
      ]
    },
    {
      "cell_type": "markdown",
      "source": [
        "Question 17- Write a Python program to find the substrings within a string.\n",
        "Sample text : 'Python exercises, PHP exercises, C# exercises'\n",
        "Pattern : 'exercises'.\n"
      ],
      "metadata": {
        "id": "bgiqIfpPnkZ9"
      }
    },
    {
      "cell_type": "code",
      "source": [
        "import re\n",
        "string1 = 'Python exercises, PHP exercises, C# exercises'\n",
        "pattern = 'exercises'\n",
        "pattern_search = re.findall(pattern, string1)\n",
        "if pattern_search:\n",
        "    print('Found a match!', '\"',pattern, '\"')\n",
        "else:\n",
        "    print('Not matched!!')\n",
        "\n"
      ],
      "metadata": {
        "colab": {
          "base_uri": "https://localhost:8080/"
        },
        "id": "y0HmEY5MnnPE",
        "outputId": "5ea1f50b-24ee-492c-ed87-b4996c4bb9a1"
      },
      "execution_count": null,
      "outputs": [
        {
          "output_type": "stream",
          "name": "stdout",
          "text": [
            "Found a match! \" exercises \"\n"
          ]
        }
      ]
    },
    {
      "cell_type": "markdown",
      "source": [
        "Question 18- Write a Python program to find the occurrence and position of the substrings within a string."
      ],
      "metadata": {
        "id": "sa_rUj6QnuL0"
      }
    },
    {
      "cell_type": "code",
      "source": [
        "import re\n",
        "string1 = 'Python exercises, PHP exercises, C# exercises'\n",
        "substring = 'exercises'\n",
        "pattern_search = re.finditer(substring, string1)\n",
        "for match in pattern_search:\n",
        "    print('string \\'{}\\''.format(substring), 'found at position', match.span())\n",
        "\n"
      ],
      "metadata": {
        "colab": {
          "base_uri": "https://localhost:8080/"
        },
        "id": "2F4RPKnznqJH",
        "outputId": "87c06eb4-a571-4695-a58f-396e6a9d113f"
      },
      "execution_count": null,
      "outputs": [
        {
          "output_type": "stream",
          "name": "stdout",
          "text": [
            "string 'exercises' found at position (7, 16)\n",
            "string 'exercises' found at position (22, 31)\n",
            "string 'exercises' found at position (36, 45)\n"
          ]
        }
      ]
    },
    {
      "cell_type": "markdown",
      "source": [
        "Question 19- Write a Python program to convert a date of yyyy-mm-dd format to dd-mm-yyyy format."
      ],
      "metadata": {
        "id": "D3Tf1oWWnzdx"
      }
    },
    {
      "cell_type": "code",
      "source": [
        "import re\n",
        "\n",
        "date1 = \"2023-08-25\"\n",
        "x = re.sub(r'(\\d{4})-(\\d{1,2})-(\\d{1,2})', '\\\\3-\\\\2-\\\\1', date1)\n",
        "\n",
        "print(\"Original date in YYY-MM-DD Format: \",date1)\n",
        "print(\"New date in DD-MM-YYYY Format: \",x)\n",
        "\n",
        "\n"
      ],
      "metadata": {
        "colab": {
          "base_uri": "https://localhost:8080/"
        },
        "id": "vRHt5sQjnxRM",
        "outputId": "e6c2cd40-917b-4a08-f684-87bae38f050e"
      },
      "execution_count": null,
      "outputs": [
        {
          "output_type": "stream",
          "name": "stdout",
          "text": [
            "Original date in YYY-MM-DD Format:  2023-08-25\n",
            "New date in DD-MM-YYYY Format:  25-08-2023\n"
          ]
        }
      ]
    },
    {
      "cell_type": "markdown",
      "source": [
        "Question 20- Create a function in python to find all decimal numbers with a precision of 1 or 2 in a string. The use of the re.compile() method is mandatory.\n",
        "Sample Text: \"01.12 0132.123 2.31875 145.8 3.01 27.25 0.25\"\n",
        "Expected Output: ['01.12', '145.8', '3.01', '27.25', '0.25']\n"
      ],
      "metadata": {
        "id": "Lo1A6pPpn_nq"
      }
    },
    {
      "cell_type": "code",
      "source": [
        "def find_decimal_numbers(text):\n",
        "    pattern = re.compile(r'\\b\\d+\\.\\d{1,2}\\b')\n",
        "    decimal_numbers = pattern.findall(text)\n",
        "    return decimal_numbers\n",
        "\n",
        "input_text = \"01.12 0132.123 2.31875 145.8 3.01 27.25 0.25\"\n",
        "decimals = find_decimal_numbers(input_text)\n",
        "print(\"Decimal numbers:\", decimals)\n",
        "\n"
      ],
      "metadata": {
        "colab": {
          "base_uri": "https://localhost:8080/"
        },
        "id": "4FZ9wl9bn91_",
        "outputId": "afaa4162-744b-4995-f7b5-7f86a763160a"
      },
      "execution_count": null,
      "outputs": [
        {
          "output_type": "stream",
          "name": "stdout",
          "text": [
            "Decimal numbers: ['01.12', '145.8', '3.01', '27.25', '0.25']\n"
          ]
        }
      ]
    },
    {
      "cell_type": "markdown",
      "source": [
        "Question 21- Write a Python program to separate and print the numbers and their position of a given string."
      ],
      "metadata": {
        "id": "QHCdnJiuoH2u"
      }
    },
    {
      "cell_type": "code",
      "source": [
        "import re\n",
        "string1 = 'My marks in each semester are: 947, 896, 926, 524, 734, 950, 642'\n",
        "pattern_search = re.finditer(\"\\d+\", string1)\n",
        "for match in pattern_search:\n",
        "    print(match.group(0))\n",
        "    print(\"Position\",match.start())\n"
      ],
      "metadata": {
        "colab": {
          "base_uri": "https://localhost:8080/"
        },
        "id": "AnUGm5vvoFDS",
        "outputId": "3ca3d809-a3f9-4d77-a1ba-b1867ce639de"
      },
      "execution_count": null,
      "outputs": [
        {
          "output_type": "stream",
          "name": "stdout",
          "text": [
            "947\n",
            "Position 31\n",
            "896\n",
            "Position 36\n",
            "926\n",
            "Position 41\n",
            "524\n",
            "Position 46\n",
            "734\n",
            "Position 51\n",
            "950\n",
            "Position 56\n",
            "642\n",
            "Position 61\n"
          ]
        }
      ]
    },
    {
      "cell_type": "markdown",
      "source": [
        "import re\n",
        "string1 = 'My marks in each semester are: 947, 896, 926, 524, 734, 950, 642'\n",
        "pattern_search = re.finditer(\"\\d+\", string1)\n",
        "for match in pattern_search:\n",
        "    print(match.group(0))\n",
        "    print(\"Position\",match.start())\n"
      ],
      "metadata": {
        "id": "gwfrxcu_oPkN"
      }
    },
    {
      "cell_type": "code",
      "source": [
        "import re\n",
        "text ='My marks in each semester are: 947, 896, 926, 524, 734, 950, 642'\n",
        "x = re.findall(r'\\d+', text)\n",
        "x_max = max(list(map(int, x)))\n",
        "print(x_max)\n",
        "\n"
      ],
      "metadata": {
        "colab": {
          "base_uri": "https://localhost:8080/"
        },
        "id": "EiCpBFq5oNRv",
        "outputId": "18ae5857-9ed8-49af-cc5b-28e5cb93e3e0"
      },
      "execution_count": null,
      "outputs": [
        {
          "output_type": "stream",
          "name": "stdout",
          "text": [
            "950\n"
          ]
        }
      ]
    },
    {
      "cell_type": "markdown",
      "source": [
        "\n",
        "Question 23- Create a function in python to insert spaces between words starting with capital letters.\n",
        "Sample Text: “RegularExpressionIsAnImportantTopicInPython\"\n",
        "Expected Output: Regular Expression Is An Important Topic In Python\n",
        "\n"
      ],
      "metadata": {
        "id": "vf6oxaqIoO10"
      }
    },
    {
      "cell_type": "code",
      "source": [
        "\n",
        "import re\n",
        "\n",
        "def insert_spaces(text):\n",
        "\n",
        "    pattern = r'(?<=\\w)([A-Z])'\n",
        "    result = re.sub(pattern, r' \\1', text)\n",
        "    return result\n",
        "\n",
        "input_text = \"RegularExpressionIsAnImportantTopicInPython\"\n",
        "output_text = insert_spaces(input_text)\n",
        "\n",
        "print(output_text)\n"
      ],
      "metadata": {
        "colab": {
          "base_uri": "https://localhost:8080/"
        },
        "id": "dTxxH5G7odV2",
        "outputId": "055ff752-f7d4-4f2f-d621-e458bcba224f"
      },
      "execution_count": null,
      "outputs": [
        {
          "output_type": "stream",
          "name": "stdout",
          "text": [
            "Regular Expression Is An Important Topic In Python\n"
          ]
        }
      ]
    },
    {
      "cell_type": "markdown",
      "source": [
        "Question 24- Python regex to find sequences of one upper case letter followed by lower case letters"
      ],
      "metadata": {
        "id": "ufmJ-vsiohnZ"
      }
    },
    {
      "cell_type": "code",
      "source": [
        "import re\n",
        "string1 = \"RegularExpressionIsAnImportantTopicInPython\"\n",
        "pattern = re.compile('[A-Z]+[a-z]+')\n",
        "pattern_search = pattern.search(string1)\n",
        "if pattern_search:\n",
        "    print('Found a match!')\n",
        "else:\n",
        "    print('Not matched!!')\n",
        "\n"
      ],
      "metadata": {
        "colab": {
          "base_uri": "https://localhost:8080/"
        },
        "id": "Ex5gAYOFogjA",
        "outputId": "2311013e-dde0-46c2-b0c0-86615b9cad5b"
      },
      "execution_count": null,
      "outputs": [
        {
          "output_type": "stream",
          "name": "stdout",
          "text": [
            "Found a match!\n"
          ]
        }
      ]
    },
    {
      "cell_type": "markdown",
      "source": [
        "Question 25- Write a Python program to remove continuous duplicate words from Sentence using Regular Expression.\n",
        "Sample Text: \"Hello hello world world\"\n",
        "Expected Output: Hello hello world\n"
      ],
      "metadata": {
        "id": "GkBQId6soouA"
      }
    },
    {
      "cell_type": "code",
      "source": [
        "import re\n",
        "string1 = \"Hello hello world world\"\n",
        "output_string = re.sub(r'\\b(\\w+)( \\1\\b)+', r'\\1', string1)\n",
        "print(output_string)\n"
      ],
      "metadata": {
        "colab": {
          "base_uri": "https://localhost:8080/"
        },
        "id": "kE8vWiLAonpn",
        "outputId": "81b13baf-27ed-4b76-b5bd-9d3c5574ef48"
      },
      "execution_count": null,
      "outputs": [
        {
          "output_type": "stream",
          "name": "stdout",
          "text": [
            "Hello hello world\n"
          ]
        }
      ]
    },
    {
      "cell_type": "markdown",
      "source": [
        "Question 26-  Write a python program using RegEx to accept string ending with alphanumeric character."
      ],
      "metadata": {
        "id": "P92DEoCaowG1"
      }
    },
    {
      "cell_type": "code",
      "source": [
        "import re\n",
        "\n",
        "RegEx = '[a-zA-z0-9]$'\n",
        "\n",
        "def check_string(string1):\n",
        "\n",
        "   if(re.search(RegEx, string1)):\n",
        "      print(\"The string ends with alphanumeric character\")\n",
        "\n",
        "   else:\n",
        "      print(\"The string does not end with alphanumeric character\")\n",
        "\n",
        "string_1 = \"#Demonetization!!\"\n",
        "print(\"The string is :\")\n",
        "print(string_1)\n",
        "check_string(string_1)\n",
        "\n",
        "string_2 = \"#Demonetization3214\"\n",
        "print(\"\\nThe string is :\")\n",
        "print(string_2)\n",
        "check_string(string_2)\n"
      ],
      "metadata": {
        "colab": {
          "base_uri": "https://localhost:8080/"
        },
        "id": "QsXidIWeouzm",
        "outputId": "89dc8f1e-0008-4dc8-d33d-1d0a1646c698"
      },
      "execution_count": 2,
      "outputs": [
        {
          "output_type": "stream",
          "name": "stdout",
          "text": [
            "The string is :\n",
            "#Demonetization!!\n",
            "The string does not end with alphanumeric character\n",
            "\n",
            "The string is :\n",
            "#Demonetization3214\n",
            "The string ends with alphanumeric character\n"
          ]
        }
      ]
    },
    {
      "cell_type": "markdown",
      "source": [
        "Question 27-Write a python program using RegEx to extract the hashtags.\n",
        "Sample Text:  \"\"\"RT @kapil_kausik: #Doltiwal I mean #xyzabc is \"hurt\" by #Demonetization as the same has rendered USELESS <ed><U+00A0><U+00BD><ed><U+00B1><U+0089> \"acquired funds\" No wo\"\"\"\n",
        "Expected Output: ['#Doltiwal', '#xyzabc', '#Demonetization']\n"
      ],
      "metadata": {
        "id": "Qz0WISdZo3xp"
      }
    },
    {
      "cell_type": "code",
      "source": [
        "import re\n",
        "\n",
        "def extract_hashtags(text):\n",
        "    hashtag_pattern = r'#\\w+'\n",
        "\n",
        "    hashtags = re.findall(hashtag_pattern, text)\n",
        "    return hashtags\n",
        "\n",
        "text = \"\"\"RT @kapil_kausik: #Doltiwal I mean #xyzabc is \"hurt\" by #Demonetization as the same has rendered USELESS <ed><U+00A0><U+00BD><ed><U+00B1><U+0089> \"acquired funds\" No wo\"\"\"\n",
        "hashtags = extract_hashtags(text)\n",
        "print(\"Extracted hashtags:\", hashtags)\n",
        "\n"
      ],
      "metadata": {
        "colab": {
          "base_uri": "https://localhost:8080/"
        },
        "id": "SgHMQ3IWo2Ma",
        "outputId": "3efbc8f0-fe68-4747-d6ef-708e8145fdb0"
      },
      "execution_count": null,
      "outputs": [
        {
          "output_type": "stream",
          "name": "stdout",
          "text": [
            "Extracted hashtags: ['#Doltiwal', '#xyzabc', '#Demonetization']\n"
          ]
        }
      ]
    },
    {
      "cell_type": "markdown",
      "source": [
        "Question 28- Write a python program using RegEx to remove <U+..> like symbols\n",
        "Check the below sample text, there are strange symbols something of the sort <U+..> all over the place. You need to come up with a general Regex expression that will cover all such symbols.\n",
        "Sample Text: \"@Jags123456 Bharat band on 28??<ed><U+00A0><U+00BD><ed><U+00B8><U+0082>Those who  are protesting #demonetization  are all different party leaders\"\n",
        "Expected Output: @Jags123456 Bharat band on 28??<ed><ed>Those who  are protesting #demonetization  are all different party leaders\n"
      ],
      "metadata": {
        "id": "kPbboNfBpALI"
      }
    },
    {
      "cell_type": "code",
      "source": [
        "import re\n",
        "\n",
        "def remove_unicode_symbols(text):\n",
        "    unicode_pattern = r'<U\\+[0-9A-Za-z]+>'\n",
        "\n",
        "    cleaned_text = re.sub(unicode_pattern, '', text)\n",
        "    return cleaned_text\n",
        "\n",
        "text = \"@Jags123456 Bharat band on 28??<ed><U+00A0><U+00BD><ed><U+00B8><U+0082>Those who  are protesting #demonetization  are all different party leaders\"\n",
        "cleaned_text = remove_unicode_symbols(text)\n",
        "print(\"Cleaned text:\", cleaned_text)\n",
        "\n"
      ],
      "metadata": {
        "colab": {
          "base_uri": "https://localhost:8080/"
        },
        "id": "A8vCQQh3o9jt",
        "outputId": "615b9697-6c5f-4fd6-960d-b6abc765793b"
      },
      "execution_count": null,
      "outputs": [
        {
          "output_type": "stream",
          "name": "stdout",
          "text": [
            "Cleaned text: @Jags123456 Bharat band on 28??<ed><ed>Those who  are protesting #demonetization  are all different party leaders\n"
          ]
        }
      ]
    },
    {
      "cell_type": "markdown",
      "source": [
        "Question 29- Write a python program to extract dates from the text stored in the text file.\n",
        "Sample Text: Ron was born on 12-09-1992 and he was admitted to school 15-12-1999.\n",
        "Note- Store this sample text in the file and then extract dates.\n"
      ],
      "metadata": {
        "id": "hAA5b14bpFPr"
      }
    },
    {
      "cell_type": "code",
      "source": [
        "import re\n",
        "\n",
        "def extract_dates_from_text(file_path):\n",
        "    with open(file_path, 'r') as file:\n",
        "        text = file.read()\n",
        "\n",
        "\n",
        "    date_pattern = \"\\d{2}[/-]\\d{2}[/-]\\d{4}\"\n",
        "\n",
        "    dates = re.findall(date_pattern, text)\n",
        "\n",
        "\n",
        "    return dates\n",
        "\n",
        "file_path = '/content/extract_date.txt'\n",
        "extracted_dates = extract_dates_from_text(file_path)\n",
        "\n",
        "for date in extracted_dates:\n",
        "    print(date)\n",
        "\n"
      ],
      "metadata": {
        "colab": {
          "base_uri": "https://localhost:8080/"
        },
        "id": "cRCUTDEopDeu",
        "outputId": "199ae827-0993-454b-fff3-3b8cefa71e72"
      },
      "execution_count": null,
      "outputs": [
        {
          "output_type": "stream",
          "name": "stdout",
          "text": [
            "12-09-1992\n",
            "15-12-1999\n"
          ]
        }
      ]
    },
    {
      "cell_type": "markdown",
      "source": [
        "Question 30- Create a function in python to remove all words from a string of length between 2 and 4.\n",
        "The use of the re.compile() method is mandatory.\n",
        "Sample Text: \"The following example creates an ArrayList with a capacity of 50 elements. 4 elements are then added to the ArrayList and the ArrayList is trimmed accordingly.\"\n",
        "Expected Output:  following example creates ArrayList a capacity elements. 4 elements added ArrayList ArrayList trimmed accordingly.\n"
      ],
      "metadata": {
        "id": "72PnNPkdpTdA"
      }
    },
    {
      "cell_type": "code",
      "source": [
        "import re\n",
        "\n",
        "def remove_words_by_length(text):\n",
        "    pattern = re.compile(r'\\b\\w{2,4}\\b')\n",
        "\n",
        "    cleaned_text = pattern.sub('', text)\n",
        "    return cleaned_text\n",
        "\n",
        "text = \"The following example creates an ArrayList with a capacity of 50 elements. 4 elements are then added to the ArrayList and the ArrayList is trimmed accordingly.\"\n",
        "cleaned_text = remove_words_by_length(text)\n",
        "print(\"Cleaned text:\", cleaned_text)"
      ],
      "metadata": {
        "colab": {
          "base_uri": "https://localhost:8080/"
        },
        "id": "QMRbVlJOpXY7",
        "outputId": "c2ca4bdd-ae21-4226-ea6b-01be2dd6f6be"
      },
      "execution_count": null,
      "outputs": [
        {
          "output_type": "stream",
          "name": "stdout",
          "text": [
            "Cleaned text:  following example creates  ArrayList  a capacity   elements. 4 elements   added   ArrayList   ArrayList  trimmed accordingly.\n"
          ]
        }
      ]
    },
    {
      "cell_type": "code",
      "source": [],
      "metadata": {
        "id": "RAcwIm96paTp"
      },
      "execution_count": null,
      "outputs": []
    }
  ]
}